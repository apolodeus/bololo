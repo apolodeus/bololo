{
  "nbformat": 4,
  "nbformat_minor": 0,
  "metadata": {
    "colab": {
      "name": "nossoAmbiente.ipynb",
      "provenance": [],
      "include_colab_link": true
    },
    "kernelspec": {
      "name": "python3",
      "display_name": "Python 3"
    },
    "language_info": {
      "name": "python"
    }
  },
  "cells": [
    {
      "cell_type": "markdown",
      "metadata": {
        "id": "view-in-github",
        "colab_type": "text"
      },
      "source": [
        "<a href=\"https://colab.research.google.com/github/apolodeus/bololo/blob/main/nossoAmbiente.ipynb\" target=\"_parent\"><img src=\"https://colab.research.google.com/assets/colab-badge.svg\" alt=\"Open In Colab\"/></a>"
      ]
    },
    {
      "cell_type": "code",
      "metadata": {
        "colab": {
          "base_uri": "https://localhost:8080/"
        },
        "id": "LLw8dNhWa0na",
        "outputId": "d15d6dbc-8206-4e99-f7ce-4586ccac7cde"
      },
      "source": [
        "print(\"Olá\")"
      ],
      "execution_count": null,
      "outputs": [
        {
          "output_type": "stream",
          "name": "stdout",
          "text": [
            "Olá\n"
          ]
        }
      ]
    },
    {
      "cell_type": "markdown",
      "source": [
        "UNIVERSIDADE FEDERAL DO RIO GRANDE DO NORTE\n",
        "\n",
        "ALGORITIMOS E LINGUAGENS DE PROGRAMAÇÃO ORIENTADA A OBJETOS\n",
        "\n",
        "DEPARTAMENTO DE ENGENHARIA DE PRODUÇÃO\n",
        "\n",
        "PROFESSOR CARLOS MAGNO\n",
        "\n",
        "CURSO: ENGENHARIA DE PRODUÇÃO\n",
        "\n",
        "MATRÍCULA : 20230033888\n",
        "\n",
        "NOME : MAYCKON RENAM DE SOUZA MELO\n"
      ],
      "metadata": {
        "id": "SC6JUVie9fZn"
      }
    },
    {
      "cell_type": "markdown",
      "source": [],
      "metadata": {
        "id": "0aRjtgTj9gYY"
      }
    }
  ]
}