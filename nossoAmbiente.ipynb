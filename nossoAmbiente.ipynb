{
  "nbformat": 4,
  "nbformat_minor": 0,
  "metadata": {
    "colab": {
      "name": "nossoAmbiente.ipynb",
      "provenance": [],
      "history_visible": true,
      "include_colab_link": true
    },
    "kernelspec": {
      "name": "python3",
      "display_name": "Python 3"
    },
    "language_info": {
      "name": "python"
    }
  },
  "cells": [
    {
      "cell_type": "markdown",
      "metadata": {
        "id": "view-in-github",
        "colab_type": "text"
      },
      "source": [
        "<a href=\"https://colab.research.google.com/github/apolodeus/bololo/blob/main/nossoAmbiente.ipynb\" target=\"_parent\"><img src=\"https://colab.research.google.com/assets/colab-badge.svg\" alt=\"Open In Colab\"/></a>"
      ]
    },
    {
      "cell_type": "code",
      "metadata": {
        "colab": {
          "base_uri": "https://localhost:8080/"
        },
        "id": "LLw8dNhWa0na",
        "outputId": "d15d6dbc-8206-4e99-f7ce-4586ccac7cde"
      },
      "source": [
        "print(\"Olá\")"
      ],
      "execution_count": null,
      "outputs": [
        {
          "output_type": "stream",
          "name": "stdout",
          "text": [
            "Olá\n"
          ]
        }
      ]
    },
    {
      "cell_type": "markdown",
      "source": [],
      "metadata": {
        "id": "B2VNDOZqqdPG"
      }
    },
    {
      "cell_type": "markdown",
      "source": [
        "UNIVERSIDADE FEDERAL DO RIO GRANDE DO NORTE\n",
        "\n",
        "ALGORITIMOS E LINGUAGENS DE PROGRAMAÇÃO ORIENTADA A OBJETOS\n",
        "\n",
        "DEPARTAMENTO DE ENGENHARIA MECÂNICA\n",
        "\n",
        "PROFESSOR CARLOS MAGNO\n",
        "\n",
        "_____________________________________________________________________\n",
        "\n",
        "\n",
        "CURSO: ENGENHARIA DE PRODUÇÃO\n",
        "\n",
        "MATRÍCULA : 20230033888\n",
        "\n",
        "NOME : WILLIAN VINICIUS DAMASCENO COSTA\n",
        "\n",
        "_____________________________________________________________________\n"
      ],
      "metadata": {
        "id": "SC6JUVie9fZn"
      }
    },
    {
      "cell_type": "markdown",
      "source": [
        "EXEMPLO 2:"
      ],
      "metadata": {
        "id": "Zb8E34qovZOb"
      }
    },
    {
      "cell_type": "code",
      "source": [
        "#tempogasto=float(input(\"qual seu tempo em horas gasto durante a viagem?\"))\n",
        "#velocidadeM= float(input(\"qual sua velocidade média?\"))\n",
        "\n",
        "#distpercorrida=tempogasto*velocidadeM\n",
        "# litrosUS = distpercorrida / 12\n",
        "\n",
        "# print(\"durante sua viagem você gastou em litros: \",litrosUS)\n",
        "\n",
        "\n",
        "\n",
        "\n",
        "\n",
        "\n",
        "\n"
      ],
      "metadata": {
        "id": "pGfaW36SvgCr"
      },
      "execution_count": null,
      "outputs": []
    },
    {
      "cell_type": "markdown",
      "source": [
        "EXEMPLO 1"
      ],
      "metadata": {
        "id": "8IkTwPEE_993"
      }
    },
    {
      "cell_type": "code",
      "source": [
        "# print(\"Insira o número das horas trabalhadas:\")\n",
        "# numeroHora = float(input())\n",
        "\n",
        "# print(\"Insira o valor da hora aula:\")\n",
        "# valorHoras = float(input())\n",
        "\n",
        "# print(\"Insira o percentual de desconto:\")\n",
        "# descontoINSS = float(input())\n",
        "\n",
        "# #Processamento\n",
        "# salarioBRUTO = float((valorHoras)*(numeroHora))\n",
        "# salarioLiquido = float((salarioBRUTO) - ((descontoINSS)/(100))*salarioBRUTO)\n",
        "\n",
        "# #Valores de saída\n",
        "# print(\"O valor do salário bruto será de R$\",salarioBRUTO)\n",
        "# print(\"O valor do salário líquido será de R$\",salarioLiquido)\n",
        "\n"
      ],
      "metadata": {
        "id": "VpgeJXUZ_qJi"
      },
      "execution_count": null,
      "outputs": []
    },
    {
      "cell_type": "markdown",
      "source": [
        "EXEMPLO 3\n"
      ],
      "metadata": {
        "id": "8RLkUzQh8vtI"
      }
    },
    {
      "cell_type": "code",
      "source": [
        "# valor1=int(input(\"digite um valor pra A:\"))\n",
        "# valor2= int(input(\"digite um valor pra B:\"))\n",
        "# x= valor1\n",
        "# valor1 = valor2\n",
        "# valor2 = x\n",
        "\n",
        "# print(\"seu novo valor de A é:\",valor1)\n",
        "# print(\"seu novo valor de b é:\",valor2)\n",
        "\n"
      ],
      "metadata": {
        "id": "SvSsMG_18yWI",
        "outputId": "763aa391-4501-4c12-d4d3-7839b8e245ed",
        "colab": {
          "base_uri": "https://localhost:8080/"
        }
      },
      "execution_count": null,
      "outputs": [
        {
          "output_type": "stream",
          "name": "stdout",
          "text": [
            "digite um valor pra A:2\n",
            "digite um valor pra B:5\n",
            "seu novo valor de A é: 5\n",
            "seu novo valor de b é: 2\n"
          ]
        }
      ]
    },
    {
      "cell_type": "markdown",
      "source": [],
      "metadata": {
        "id": "0aRjtgTj9gYY"
      }
    },
    {
      "cell_type": "markdown",
      "source": [
        "PAG 36,"
      ],
      "metadata": {
        "id": "Bzputvl43JIV"
      }
    },
    {
      "cell_type": "markdown",
      "source": [
        "EXEMPLO 4"
      ],
      "metadata": {
        "id": "QfjWVKyeFGnf"
      }
    },
    {
      "cell_type": "code",
      "source": [
        "# altura=float(input(\"qual a altura da lata de óleo? \"))\n",
        "# r=float(input(\"qual o valor do raio da lata de óleo?\"))\n",
        "# vol=3.14*r**2*altura\n",
        "# print(\"o volume da lata de óleo é igual a :\", vol)"
      ],
      "metadata": {
        "id": "3HbERCQ9FJCN",
        "outputId": "5f2b48b2-c472-4fa0-ac01-8e9453c4fc42",
        "colab": {
          "base_uri": "https://localhost:8080/"
        }
      },
      "execution_count": null,
      "outputs": [
        {
          "output_type": "stream",
          "name": "stdout",
          "text": [
            "qual a altura da lata de óleo? 2.4\n",
            "qual o valor do raio da lata de óleo?2.15\n",
            "o volume da lata de óleo é igual a : 34.835159999999995\n"
          ]
        }
      ]
    },
    {
      "cell_type": "markdown",
      "source": [
        "usando import math da acesso a bib. de dados\n",
        "para colocar apelido, acrescenta o as e depois atribui ex as mt para math\n",
        "ramdom = importa numeros randons (aleatorios) (raio.randin(0,9)\n",
        "substiui , por +srt\n",
        "{}.format(raio,altura.volume)"
      ],
      "metadata": {
        "id": "goy1hJaILb6p"
      }
    },
    {
      "cell_type": "markdown",
      "source": [
        "________________________________________________________________________________\n",
        "LISTA 00"
      ],
      "metadata": {
        "id": "kY-byiCXqfav"
      }
    },
    {
      "cell_type": "markdown",
      "source": [
        "(O2) Faça um algoritmo que leia as 3 notas de um aluno e calcule a média final deste aluno. Considerar que a média é ponderada e que o peso das notas é: 2,3 e 5, respectivamente."
      ],
      "metadata": {
        "id": "kaw8I_D3qmri"
      }
    },
    {
      "cell_type": "code",
      "source": [
        "# primeiranota= float(input(\"qual sua nota da primeira unidade?\"))\n",
        "# segundanota= float(input(\"qual sua nota da segunda unidade?\"))\n",
        "# terceiranota= float(input(\"qual sua nota da terceira unidade?\"))\n",
        "\n",
        "# mediafinal= (primeiranota*2 + segundanota*3 + terceiranota*5)/10\n",
        "# print(\"sua media final foi:\", mediafinal)\n"
      ],
      "metadata": {
        "colab": {
          "base_uri": "https://localhost:8080/"
        },
        "id": "EEFoLJY4q0Y9",
        "outputId": "8a422abd-d2e1-417d-9df5-d46eb80a4005"
      },
      "execution_count": null,
      "outputs": [
        {
          "output_type": "stream",
          "name": "stdout",
          "text": [
            "qual sua nota da primeira unidade?6.5\n",
            "qual sua nota da segunda unidade?6.7\n",
            "qual sua nota da terceira unidade?6\n",
            "sua media final foi: 6.3100000000000005\n"
          ]
        }
      ]
    },
    {
      "cell_type": "markdown",
      "source": [],
      "metadata": {
        "id": "juUX95j74uch"
      }
    },
    {
      "cell_type": "markdown",
      "source": [
        "(03) O custo ao consumidor de um carro novo é a soma do custo de fábrica com a percentagem do distribuidor e dos impostos (aplicados ao custo de fábrica). Supondo que a percentagem do distribuidor seja de 28% e os impostos de 45%, escrever um algoritmo que leia o custo de fábrica de um carro e escreva o custo ao consumidor."
      ],
      "metadata": {
        "id": "CgEEPH8muRLi"
      }
    },
    {
      "cell_type": "code",
      "source": [
        "# valordefabrica=float(input(\"qual o valor de fabrica do seu carro novo? \"))\n",
        "# distribuidor= valordefabrica*28/100\n",
        "# impostos=valordefabrica*45/100\n",
        "# custoconsumidor= valordefabrica+distribuidor+impostos\n",
        "# print(\"o valor final do carro,junto com a porcentagem do distribuidor e dos impostos aplicados ao valor inicial, ficou no valor de: \",custoconsumidor)"
      ],
      "metadata": {
        "colab": {
          "base_uri": "https://localhost:8080/"
        },
        "id": "9khOOXoAuZcA",
        "outputId": "1d1fa33a-5a8f-4dd4-aef4-db7adbd15bce"
      },
      "execution_count": null,
      "outputs": [
        {
          "output_type": "stream",
          "name": "stdout",
          "text": [
            "qual o valor de fabrica do seu carro novo? 17.000\n",
            "o valor final do carro,junto com a porcentagem do distribuidor e dos impostos aplicados ao valor inicial, ficou no valor de:  29.409999999999997\n"
          ]
        }
      ]
    },
    {
      "cell_type": "code",
      "source": [],
      "metadata": {
        "id": "9NO3R4WixgJR"
      },
      "execution_count": null,
      "outputs": []
    },
    {
      "cell_type": "markdown",
      "source": [
        "__________________________________________________________________\n",
        "LISTA01\n"
      ],
      "metadata": {
        "id": "pDpkVVGvxavh"
      }
    },
    {
      "cell_type": "markdown",
      "source": [
        "1) - Construa um algoritmo que receba dois números inteiros e informe qual é o maior entre os números digitados."
      ],
      "metadata": {
        "id": "4sw2upoIxhUo"
      }
    },
    {
      "cell_type": "code",
      "source": [
        "num1=int(input(\"digite um numero\"))\n",
        "num2=int(input(\"digite outro numero\"))\n",
        "\n",
        "if num1>num2:\n",
        " maiornum=num1\n",
        "elif num2>num1:\n",
        "  maiornum=num2\n",
        "else:\n",
        "  maiornum=\"os numeros são os mesmos\"\n",
        "print(\"o maior numero é:\",maiornum)\n",
        "\n",
        "\n",
        "\n",
        "\n",
        "\n",
        "\n",
        "\n",
        "\n",
        "\n"
      ],
      "metadata": {
        "colab": {
          "base_uri": "https://localhost:8080/"
        },
        "id": "RFcVzz66xlzs",
        "outputId": "7f78ebb6-6656-436a-ea92-a2784b7680c7"
      },
      "execution_count": null,
      "outputs": [
        {
          "output_type": "stream",
          "name": "stdout",
          "text": [
            "digite um numero5\n",
            "digite outro numero8\n",
            "o maior numero é: 8\n"
          ]
        }
      ]
    },
    {
      "cell_type": "markdown",
      "source": [
        "2) - Ler um valor numerico inteiro e informar se o mesmo é impar ou par"
      ],
      "metadata": {
        "id": "oHp2QadV2aCf"
      }
    },
    {
      "cell_type": "code",
      "source": [
        "num=int(input(\"digite um número\"))\n",
        "if num%2==0:\n",
        "  print(\"o valor é par\")\n",
        "else:\n",
        "  print(\"o valor é impar\")\n",
        "\n"
      ],
      "metadata": {
        "colab": {
          "base_uri": "https://localhost:8080/"
        },
        "id": "Pv5vkylH22sl",
        "outputId": "91011b9b-9b3d-4663-94f2-ab8d74666fb7"
      },
      "execution_count": null,
      "outputs": [
        {
          "output_type": "stream",
          "name": "stdout",
          "text": [
            "digite um número13\n",
            "o valor é impar\n"
          ]
        }
      ]
    },
    {
      "cell_type": "markdown",
      "source": [
        "3)- Ler tres valores numericos diferentes de zero e representados pelas variáveis a,b e c. Efetuar o cálculo da equação de segundo grau ( utilizando a fórmula de Baskara ). Considerar todas as possiveis condições para delta < 0, delta > 0 e delta = 0."
      ],
      "metadata": {
        "id": "wdlgmskf2SD4"
      }
    },
    {
      "cell_type": "code",
      "source": [
        "import math\n",
        "\n",
        "a=float(input(\"digite um numero para a: \"))\n",
        "b=float(input(\"digite um numero para b: \"))\n",
        "c=float(input(\"digite um numero pada c: \"))\n",
        "\n",
        "delta=b**2-4*a*c\n",
        "\n",
        "if delta>0:\n",
        "  raizq=math.sqrt(delta)\n",
        "  raiz1= (-b+raizq)/(2*a)\n",
        "  raiz2= (-b-raizq)/(2*a)\n",
        "\n",
        "  print (\"o valor do delta é: {} e suas raizes são distintas, com os valores de {} e {}\".format(delta,raiz1,raiz2))\n",
        "elif delta == 0:\n",
        "   raiz = -b/(2*a)\n",
        "  #delta=b**2-4*ac1\n",
        "   print(\"o valor do delta é: {} e suas raizes são iguais, portanto: {} para ambas\".format(delta,raiz))\n",
        "\n",
        "else :\n",
        "  print(\"valor irregular e não possui raiz\")\n",
        "\n",
        "\n",
        "\n"
      ],
      "metadata": {
        "colab": {
          "base_uri": "https://localhost:8080/"
        },
        "id": "NCk79A9e5v5j",
        "outputId": "d664c4c5-0526-416d-db32-68fc9a64e06c"
      },
      "execution_count": null,
      "outputs": [
        {
          "output_type": "stream",
          "name": "stdout",
          "text": [
            "digite um numero para a: 1\n",
            "digite um numero para b: 2\n",
            "digite um numero pada c: 1\n",
            "o valor do delta é: 0.0 e suas raizes são iguais, portanto: -1.0 para ambas\n"
          ]
        }
      ]
    },
    {
      "cell_type": "markdown",
      "source": [
        "4) - Ler um valor numerico inteiro e apresentar a mensagem se ele é divisível por 2 e por 3"
      ],
      "metadata": {
        "id": "x5k8bnANe3ys"
      }
    },
    {
      "cell_type": "code",
      "source": [
        "num1=int(input(\"digite um numero\"))\n",
        "if num1 % 2==0:\n",
        "   while num1% 3 ==0:\n",
        "    print(\"o numero {}, é divisivel por 2 e por 3\".format(num1))\n",
        "    break\n",
        "else:\n",
        "  print(\"o numero {}não é divisivel pelos dois valores ao mesmo tempo\".format(num1))"
      ],
      "metadata": {
        "colab": {
          "base_uri": "https://localhost:8080/"
        },
        "id": "d7gzOzSagZeZ",
        "outputId": "a907375f-6e88-4e17-ddbc-95107d6d7069"
      },
      "execution_count": null,
      "outputs": [
        {
          "output_type": "stream",
          "name": "stdout",
          "text": [
            "digite um numero5\n",
            "o numero 5não é divisivel pelos dois valores ao mesmo tempo\n"
          ]
        }
      ]
    },
    {
      "cell_type": "markdown",
      "source": [
        "5)- Ler três valores para os lados de um triângulo, considerando lados como: A,B e C. Verificar se os lados fornecidos realmente formam um triângulo. Caso verdade voce deverá indicar se o triângulo formado é: is´sceles, escaleno ou equilátero."
      ],
      "metadata": {
        "id": "exibLtwRjho1"
      }
    },
    {
      "cell_type": "code",
      "source": [
        "def tipotriangulo(a, b, c):\n",
        "    if a == b == c:\n",
        "        return \"equilátero\"\n",
        "    elif a != b and a != c and b != c:\n",
        "        return \"escaleno\"\n",
        "    else:\n",
        "        return \"isósceles\"\n",
        "\n",
        "def formatriangulo(a, b, c):\n",
        "    return (a + b > c) and (a + c > b) and (b + c > a)\n",
        "\n",
        "\n",
        "A = float(input(\"Digite o valor do lado A: \"))\n",
        "B = float(input(\"Digite o valor do lado B: \"))\n",
        "C = float(input(\"Digite o valor do lado C: \"))\n",
        "\n",
        "\n",
        "if formatriangulo(A, B, C):\n",
        "    tipo = tipotriangulo(A, B, C)\n",
        "    print(\"Os lados fornecidos formam um triângulo\", tipo)\n",
        "else:\n",
        "    print(\"Os lados fornecidos não formam um triângulo.\")\n",
        "\n",
        "\n",
        "\n",
        "\n",
        "\n",
        "\n"
      ],
      "metadata": {
        "colab": {
          "base_uri": "https://localhost:8080/"
        },
        "id": "mUHPxOMujkxZ",
        "outputId": "435d961d-392b-4e33-f58c-826f0f44959b"
      },
      "execution_count": null,
      "outputs": [
        {
          "output_type": "stream",
          "name": "stdout",
          "text": [
            "Digite o valor do lado A: 4\n",
            "Digite o valor do lado B: 4\n",
            "Digite o valor do lado C: 4\n",
            "Os lados fornecidos formam um triângulo equilátero\n"
          ]
        }
      ]
    },
    {
      "cell_type": "markdown",
      "source": [
        "6 )- Construa um algoritmo que calcule seu peso ideal, utilizando as seguintes fórmulas, e indique se há sobrepeso, conforme a tabela abaixo\n",
        "\n",
        "para homens: (72.7*h)-58\n",
        "[ sobrepeso = 100 kg ]\n",
        "\n",
        "para mulheres: (62.1*h)-44.7\n",
        "[ sobrepeso = 80 kg ]"
      ],
      "metadata": {
        "id": "6jq4m1P_pxTs"
      }
    },
    {
      "cell_type": "code",
      "source": [],
      "metadata": {
        "id": "5ca8UB4_gU77"
      },
      "execution_count": null,
      "outputs": []
    },
    {
      "cell_type": "markdown",
      "source": [
        "7) - Ler um valor númerico inteiro qualquer e apresentar o valor caso o mesmo não seja maior que 3. Utilizar o operador lógico not"
      ],
      "metadata": {
        "id": "eN34O0MFftZC"
      }
    },
    {
      "cell_type": "code",
      "source": [
        "numero = int(input(\"Digite um número inteiro: \"))\n",
        "\n",
        "if not numero > 3:\n",
        "    print(\"O valor digitado é menor que 3\")\n",
        "else:\n",
        "    print(\"o numero é maior que 3\")"
      ],
      "metadata": {
        "colab": {
          "base_uri": "https://localhost:8080/"
        },
        "id": "jMe2DHWbfumv",
        "outputId": "86c32b6e-4546-4be3-b861-1f177754cdaa"
      },
      "execution_count": null,
      "outputs": [
        {
          "output_type": "stream",
          "name": "stdout",
          "text": [
            "Digite um número inteiro: 1\n",
            "O valor digitado é menor que 3\n"
          ]
        }
      ]
    },
    {
      "cell_type": "markdown",
      "source": [
        "8)- Considere que 5 times participam de um campeonato. Um deles é o seu preferido, para o time que você escolher como seu preferido escreva uma mensagem que justifique a sua torcida."
      ],
      "metadata": {
        "id": "BlstoSQUgX5K"
      }
    },
    {
      "cell_type": "code",
      "source": [],
      "metadata": {
        "id": "717WkBFtgcip"
      },
      "execution_count": null,
      "outputs": []
    },
    {
      "cell_type": "markdown",
      "source": [
        "EXEMPLO1 AULA"
      ],
      "metadata": {
        "id": "CazYEPdK4wBN"
      }
    },
    {
      "cell_type": "code",
      "source": [
        "primeiranota= float(input(\"qual sua nota da primeira unidade?\"))\n",
        "segundanota= float(input(\"qual sua nota da segunda unidade?\"))\n",
        "terceiranota= float(input(\"qual sua nota da terceira unidade?\"))\n",
        "\n",
        "mediafinal= (primeiranota + segundanota + terceiranota)/354\n",
        "\n",
        "if mediafinal >= 7:\n",
        "\n",
        " print(\"sua media final foi {}, e você está aprovado\".format(mediafinal))\n",
        "else :\n",
        "  print(\"sua media final foi {}, e você está reprovado\".format(mediafinal))\n"
      ],
      "metadata": {
        "id": "tm9UktfJ4zRp",
        "outputId": "476472d1-0af3-4241-f38f-7464c6395afe",
        "colab": {
          "base_uri": "https://localhost:8080/"
        }
      },
      "execution_count": null,
      "outputs": [
        {
          "output_type": "stream",
          "name": "stdout",
          "text": [
            "qual sua nota da primeira unidade?4\n",
            "qual sua nota da segunda unidade?4\n",
            "qual sua nota da terceira unidade?5\n",
            "sua media final foi 0.03672316384180791, e você está reprovado\n"
          ]
        }
      ]
    },
    {
      "cell_type": "code",
      "source": [],
      "metadata": {
        "id": "pI5ywMHEP9Kq"
      },
      "execution_count": null,
      "outputs": []
    },
    {
      "cell_type": "code",
      "source": [],
      "metadata": {
        "id": "VnD1PU_NP9Br"
      },
      "execution_count": null,
      "outputs": []
    },
    {
      "cell_type": "markdown",
      "source": [
        "aula exemplos"
      ],
      "metadata": {
        "id": "lxmXKrXQP_HC"
      }
    },
    {
      "cell_type": "code",
      "source": [
        "a=[2,3,4,88,6,8,9,3,4,5]\n",
        "print(type(a))\n",
        "print(len(a))\n",
        "\n",
        "for i in range (len(a)):\n",
        "  print(a[i])"
      ],
      "metadata": {
        "id": "aHmFmzOhQB1a",
        "outputId": "c0bcad4c-c535-4268-caf3-0889ecf60df4",
        "colab": {
          "base_uri": "https://localhost:8080/"
        }
      },
      "execution_count": 5,
      "outputs": [
        {
          "output_type": "stream",
          "name": "stdout",
          "text": [
            "<class 'list'>\n",
            "10\n",
            "2\n",
            "3\n",
            "4\n",
            "88\n",
            "6\n",
            "8\n",
            "9\n",
            "3\n",
            "4\n",
            "5\n"
          ]
        }
      ]
    },
    {
      "cell_type": "markdown",
      "source": [
        ",,,,,,,,,,,,,,,,,,,,,,,,,,,,,,,,,,,,,,,,,,,,,,,,,,,,,,,,,,,,,,,,,,,,,,,,,,,,,,,,,,,,,,,,,,,,,,,,,,,,,,,,,,"
      ],
      "metadata": {
        "id": "MvJmHy5iZCZ3"
      }
    },
    {
      "cell_type": "code",
      "source": [
        "import random as rd\n",
        "\n",
        "valor= rd.randint(10,90)"
      ],
      "metadata": {
        "id": "ZS3FlCexZF1J"
      },
      "execution_count": null,
      "outputs": []
    },
    {
      "cell_type": "markdown",
      "source": [
        "EXEMPLO B"
      ],
      "metadata": {
        "id": "Hxqz14J8bSIw"
      }
    },
    {
      "cell_type": "code",
      "source": [],
      "metadata": {
        "id": "uJ209FGUbXUO"
      },
      "execution_count": null,
      "outputs": []
    }
  ]
}